{
 "cells": [
  {
   "cell_type": "code",
   "execution_count": null,
   "metadata": {},
   "outputs": [],
   "source": [
    "import pandas as pd\n",
    "import os\n",
    "import seaborn as sns\n",
    "import matplotlib.pyplot as plt\n"
   ]
  },
  {
   "cell_type": "markdown",
   "metadata": {},
   "source": [
    "input our_group data for samples and save as a dict\n"
   ]
  },
  {
   "cell_type": "code",
   "execution_count": null,
   "metadata": {},
   "outputs": [],
   "source": [
    "meta = pd.read_csv(\"../meta_data13_new.csv\")\n",
    "meta_dict = meta.set_index('Taxa')['our_group'].to_dict()"
   ]
  },
  {
   "cell_type": "code",
   "execution_count": null,
   "metadata": {},
   "outputs": [],
   "source": [
    "read_dict = meta.set_index('Taxa')['total_reads'].to_dict()\n",
    "read_dict"
   ]
  },
  {
   "cell_type": "code",
   "execution_count": null,
   "metadata": {},
   "outputs": [],
   "source": [
    "# this will hold our dataframes\n",
    "all_dataframes = []\n",
    "\n",
    "# Folder Path\n",
    "path = '/Users/higginsj/Documents/align_stats_by_chrom/ABB_stats_by_chrom'\n",
    "     \n",
    "for filename in os.listdir(path):\n",
    "\n",
    "    # only read files matching the pattern\n",
    "    if filename.endswith(\".txt\"):\n",
    "        print(f\"reading {filename}...\")\n",
    "        df = pd.read_csv(filename,sep =\"\\t\",index_col=False)\n",
    "\n",
    "        # take the bit of the filename between underscore for sample name\n",
    "        df[\"Taxa\"] = filename.split(\"_\")[3]\n",
    "        all_dataframes.append(df)\n",
    "\n",
    "# now concatenate all the dataframes in the list\n",
    "big_df = pd.concat(all_dataframes)\n",
    "big_df\n",
    "\n"
   ]
  },
  {
   "cell_type": "markdown",
   "metadata": {},
   "source": [
    "now add new columns from existing columns\n",
    "remove % from pp_mapped and make numeric\n",
    "make a new dataframe called abb_stats from required columns\n"
   ]
  },
  {
   "cell_type": "code",
   "execution_count": null,
   "metadata": {},
   "outputs": [],
   "source": [
    "\n",
    "big_df['our_group']=big_df['Taxa'].map(meta_dict)\n",
    "big_df"
   ]
  },
  {
   "cell_type": "code",
   "execution_count": null,
   "metadata": {},
   "outputs": [],
   "source": [
    "big_df[\"pp_mapped\"] = big_df[\"pp_mapped\"].replace('\\%','', regex=True)\n",
    "big_df.dtypes\n",
    "big_df"
   ]
  },
  {
   "cell_type": "code",
   "execution_count": null,
   "metadata": {},
   "outputs": [],
   "source": [
    "big_df[\"pp_mapped\"] = pd.to_numeric(big_df[\"pp_mapped\"])         \n",
    "big_df.dtypes"
   ]
  },
  {
   "cell_type": "code",
   "execution_count": null,
   "metadata": {},
   "outputs": [],
   "source": [
    "big_df[['stats','chrom','name','rest']] = big_df['sample'].str.split(\"_\",expand=True,)\n",
    "\n",
    "big_df"
   ]
  },
  {
   "cell_type": "code",
   "execution_count": null,
   "metadata": {},
   "outputs": [],
   "source": [
    "big_df[['genome','bam','txt']] = big_df['rest'].str.split(\".\",expand=True,)\n",
    "big_df.to_csv(\"big_df.csv\")\n",
    "big_df"
   ]
  },
  {
   "cell_type": "code",
   "execution_count": null,
   "metadata": {},
   "outputs": [],
   "source": []
  },
  {
   "cell_type": "code",
   "execution_count": null,
   "metadata": {},
   "outputs": [],
   "source": [
    "big_df[\"chrom\"] = pd.to_numeric(big_df[\"chrom\"])         \n",
    "big_df.dtypes\n",
    "big_df['chr_len']=big_df['chrom'].map(chr_dict)\n",
    "big_df.dtypes\n",
    "big_df"
   ]
  },
  {
   "cell_type": "code",
   "execution_count": null,
   "metadata": {},
   "outputs": [],
   "source": [
    "big_df['total_reads']=big_df['Taxa'].map(read_dict)\n",
    "big_df\n",
    "big_df.to_csv(\"big_df.csv\")"
   ]
  },
  {
   "cell_type": "code",
   "execution_count": null,
   "metadata": {},
   "outputs": [],
   "source": [
    "abb_stats = big_df.filter(['Taxa','properly_paired','our_group','genome',\"chrom\",\"total_reads\"], axis=1)\n",
    "abb_stats.to_csv(\"ABB_stats.csv\")\n",
    "abb_stats.dtypes\n",
    "#abb_stats.shape"
   ]
  },
  {
   "cell_type": "code",
   "execution_count": null,
   "metadata": {},
   "outputs": [],
   "source": [
    "#abb_stats\n",
    "#abb_stats['all'] = abb_stats['chr_len']*abb_stats['reads']\n",
    "#abb_stats"
   ]
  },
  {
   "cell_type": "code",
   "execution_count": null,
   "metadata": {},
   "outputs": [],
   "source": [
    "abb_stats['prop']=abb_stats['properly_paired']/abb_stats['total_reads']\n",
    "abb_stats\n",
    "abb_stats.to_csv(\"ABB_prop_stats.csv\")"
   ]
  },
  {
   "cell_type": "code",
   "execution_count": null,
   "metadata": {},
   "outputs": [],
   "source": []
  },
  {
   "cell_type": "markdown",
   "metadata": {},
   "source": [
    "plot by chromosome and group"
   ]
  },
  {
   "cell_type": "code",
   "execution_count": null,
   "metadata": {},
   "outputs": [],
   "source": [
    "sns.catplot(data=abb_stats, x = \"our_group\", y = \"prop\", kind = \"box\")"
   ]
  },
  {
   "cell_type": "code",
   "execution_count": null,
   "metadata": {},
   "outputs": [],
   "source": [
    "sns.catplot(data=abb_stats, x = \"chrom\", y = \"prop\", kind = \"box\")"
   ]
  },
  {
   "cell_type": "code",
   "execution_count": null,
   "metadata": {},
   "outputs": [],
   "source": [
    "sns.catplot(data=abb_stats, x = \"chrom\", y = \"prop\", kind = \"swarm\",hue = \"our_group\")\n",
    "\n",
    "\n"
   ]
  },
  {
   "cell_type": "code",
   "execution_count": null,
   "metadata": {},
   "outputs": [],
   "source": [
    "sns.catplot(data=abb_stats, x = \"chrom\", y = \"prop\", kind = \"box\",hue = \"our_group\")\n"
   ]
  },
  {
   "cell_type": "code",
   "execution_count": null,
   "metadata": {},
   "outputs": [],
   "source": [
    "sns.catplot(data=abb_stats, x = \"our_group\", y = \"prop\", kind = \"box\",hue = \"chrom\")\n"
   ]
  },
  {
   "cell_type": "markdown",
   "metadata": {},
   "source": [
    "https://medium.com/analytics-vidhya/how-to-summarize-data-with-pandas-2c9edffafbaf\n",
    "\n",
    "a. min(): Return the minimum value\n",
    "\n",
    "b. max(): Return the maximum value\n",
    "\n",
    "c. mean(): Return the mean of the values\n",
    "\n",
    "d. median(): Return the median of the values\n",
    "\n"
   ]
  },
  {
   "cell_type": "code",
   "execution_count": null,
   "metadata": {},
   "outputs": [],
   "source": [
    "abb_stats[\"our_group\"].shape\n",
    "abb_stats.describe\n",
    "abb_stats. nunique()\n",
    "abb_stats.sum()\n",
    "abb_stats.count()\n",
    "abb_stats[\"our_group\"].shape"
   ]
  },
  {
   "cell_type": "code",
   "execution_count": null,
   "metadata": {},
   "outputs": [],
   "source": [
    "abb_stats.groupby(\"our_group\").sum()"
   ]
  },
  {
   "cell_type": "code",
   "execution_count": null,
   "metadata": {},
   "outputs": [],
   "source": [
    "sucrier1 = abb_stats.loc[(abb_stats[\"our_group\"]== \"a_Sucrier_AA\")]\n",
    "sucrier1\n",
    "suc_mean = sucrier1.groupby(\"chrom\").mean()\n",
    "suc_mean\n",
    "#plt =sns.catplot(data=plantain11, x = \"chrom\", y = \"prop\", kind = \"swarm\")\n",
    "#plt.savefig(\"ABB_plantain11.png\")\n"
   ]
  },
  {
   "cell_type": "code",
   "execution_count": null,
   "metadata": {},
   "outputs": [],
   "source": [
    "plantain11 = abb_stats.loc[(abb_stats[\"our_group\"]== \"k_Plantain_ABB\")]\n",
    "plantain11\n",
    "\n",
    "plan_mean = plantain11.groupby(\"chrom\").mean()\n",
    "\n",
    "plt =sns.catplot(data=plantain11, x = \"chrom\", y = \"prop\", kind = \"box\")\n",
    "plt.savefig(\"ABB_plantain11.png\")\n",
    "\n"
   ]
  },
  {
   "cell_type": "code",
   "execution_count": null,
   "metadata": {},
   "outputs": [],
   "source": [
    "GrosMichel3= abb_stats.loc[(abb_stats[\"our_group\"]== \"c_GrosMichel_AAA\")]\n",
    "GrosMichel3\n",
    "\n",
    "gm3_mean = GrosMichel3.groupby(\"chrom\").mean()"
   ]
  },
  {
   "cell_type": "code",
   "execution_count": null,
   "metadata": {},
   "outputs": [],
   "source": [
    "GrosMichel4= abb_stats.loc[(abb_stats[\"our_group\"]== \"d_GrosMichel-like_AAA\")]\n",
    "GrosMichel4\n",
    "\n",
    "gm4_mean = GrosMichel4.groupby(\"chrom\").mean()"
   ]
  },
  {
   "cell_type": "code",
   "execution_count": null,
   "metadata": {},
   "outputs": [],
   "source": [
    "cavendish2= abb_stats.loc[(abb_stats[\"our_group\"]== \"b_Cavendish_AAA\")]\n",
    "cavendish2\n",
    "\n",
    "cav2_mean = cavendish2.groupby(\"chrom\").mean()\n",
    "cav2_mean"
   ]
  },
  {
   "cell_type": "code",
   "execution_count": null,
   "metadata": {},
   "outputs": [],
   "source": [
    "gm4_mean"
   ]
  },
  {
   "cell_type": "code",
   "execution_count": null,
   "metadata": {},
   "outputs": [],
   "source": [
    "groups_all = abb_stats[\"our_group\"]\n",
    "groups = groups_all.drop_duplicates(keep='first', inplace=False)"
   ]
  },
  {
   "cell_type": "code",
   "execution_count": null,
   "metadata": {},
   "outputs": [],
   "source": [
    " # this will hold our dataframes\n",
    "mean_data = []\n",
    "\n",
    "for gp in groups:\n",
    "    print (gp)\n",
    "    ind_gp = abb_stats.loc[(abb_stats[\"our_group\"]== gp)]\n",
    "    pp_mean = ind_gp.groupby(\"chrom\").mean()\n",
    "    pp_mean[\"our_group\"] = gp\n",
    "    print(pp_mean)\n",
    "    \n",
    "    mean_data.append(pp_mean)\n",
    "\n",
    "# now concatenate all the dataframes in the list\n",
    "mean_all = pd.concat(mean_data,axis=0)\n",
    "mean_all\n",
    "\n",
    "\n",
    "\n",
    "#mean_all  = pd.DataFrame(mean_data)\n",
    "#mean_all\n",
    "\n",
    "mean_all.to_csv(\"mean_ABB_all_stats.csv\")"
   ]
  },
  {
   "cell_type": "code",
   "execution_count": null,
   "metadata": {},
   "outputs": [],
   "source": [
    "plan_like8 = abb_stats.loc[(abb_stats[\"our_group\"]== \"h_geno_unknown\")]\n",
    "plt =sns.catplot(data=plan_like8, x = \"chrom\", y = \"prop\", kind = \"box\")\n",
    "plt.savefig(\"ABB_geno_unknown_8.png\")"
   ]
  },
  {
   "cell_type": "code",
   "execution_count": null,
   "metadata": {},
   "outputs": [],
   "source": []
  },
  {
   "cell_type": "code",
   "execution_count": null,
   "metadata": {},
   "outputs": [],
   "source": []
  },
  {
   "cell_type": "code",
   "execution_count": null,
   "metadata": {},
   "outputs": [],
   "source": []
  }
 ],
 "metadata": {
  "kernelspec": {
   "display_name": "Python 3",
   "language": "python",
   "name": "python3"
  },
  "language_info": {
   "codemirror_mode": {
    "name": "ipython",
    "version": 3
   },
   "file_extension": ".py",
   "mimetype": "text/x-python",
   "name": "python",
   "nbconvert_exporter": "python",
   "pygments_lexer": "ipython3",
   "version": "3.7.1"
  }
 },
 "nbformat": 4,
 "nbformat_minor": 1
}
